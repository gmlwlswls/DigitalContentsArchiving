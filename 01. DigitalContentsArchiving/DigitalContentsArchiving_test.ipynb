{
 "cells": [
  {
   "cell_type": "code",
   "execution_count": null,
   "metadata": {},
   "outputs": [],
   "source": [
    "# 1. 네이버 드라이브 내 파일명 변환\n",
    "\n",
    "# 문서 번호_파일명\n",
    "\n",
    "import os\n",
    "import pandas as pd\n",
    "\n",
    "def rename_local_files_with_doc_id(csv_path, local_root_folder):\n",
    "    \"\"\"\n",
    "    CSV에 정의된 파일명 및 확장자와 로컬 파일을 비교해,\n",
    "    일치하는 경우 해당 파일에 문서번호를 붙여서 이름을 변경함.\n",
    "    \n",
    "    Parameters:\n",
    "    - csv_path (str): CSV 파일 경로\n",
    "    - local_root_folder (str): 로컬 파일들이 존재하는 루트 폴더 경로\n",
    "    \"\"\"\n",
    "    df = pd.read_csv(csv_path)\n",
    "\n",
    "    for idx, row in df.iterrows():\n",
    "        doc_id = str(row['문서번호'])\n",
    "        file_name = row['파일명']\n",
    "        extension = row['확장자']\n",
    "        \n",
    "        expected_filename = f\"{file_name}.{extension}\"\n",
    "        \n",
    "        for root, dirs, files in os.walk(local_root_folder):\n",
    "            if expected_filename in files:\n",
    "                original_path = os.path.join(root, expected_filename)\n",
    "                new_filename = f\"{doc_id}_{file_name}.{extension}\"\n",
    "                new_path = os.path.join(root, new_filename)\n",
    "                \n",
    "                # 파일 이름 변경\n",
    "                os.rename(original_path, new_path)\n",
    "                print(f\"Renamed: {original_path} -> {new_path}\")"
   ]
  },
  {
   "cell_type": "code",
   "execution_count": null,
   "metadata": {},
   "outputs": [],
   "source": [
    "rename_local_files_with_doc_id(\"파일정보.csv\", \"C:/Users/username/Documents/파일들\")"
   ]
  },
  {
   "cell_type": "code",
   "execution_count": null,
   "metadata": {},
   "outputs": [],
   "source": [
    "# 2. 로컬 이사 완료 후 변수명 변경\n",
    "\n",
    "# 문서 번호_제품명_용량_상위 폴더명_최종 수정일\n"
   ]
  },
  {
   "cell_type": "code",
   "execution_count": null,
   "metadata": {},
   "outputs": [],
   "source": [
    "# 3. 문서 번호 매치된 CSV 파일 생성\n",
    "\n",
    "# ** 매치되지 않은 파일은 그대로 > 이사 제외 사유 기입"
   ]
  }
 ],
 "metadata": {
  "kernelspec": {
   "display_name": "Python 3",
   "language": "python",
   "name": "python3"
  },
  "language_info": {
   "codemirror_mode": {
    "name": "ipython",
    "version": 3
   },
   "file_extension": ".py",
   "mimetype": "text/x-python",
   "name": "python",
   "nbconvert_exporter": "python",
   "pygments_lexer": "ipython3",
   "version": "3.11.9"
  }
 },
 "nbformat": 4,
 "nbformat_minor": 2
}
