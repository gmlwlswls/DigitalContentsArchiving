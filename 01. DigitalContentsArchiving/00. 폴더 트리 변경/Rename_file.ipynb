{
 "cells": [
  {
   "cell_type": "code",
   "execution_count": null,
   "metadata": {},
   "outputs": [],
   "source": [
    "import Rename_file"
   ]
  },
  {
   "cell_type": "code",
   "execution_count": null,
   "metadata": {},
   "outputs": [],
   "source": [
    "# 파일명 변경\n",
    "# 앞에 _로 시작하면 제거(문서 번호 부여 안한 버전이라)\n",
    "\n",
    "import os, datetime, re\n",
    "\n",
    "class Rename() :\n",
    "  def __init__(self, base_directory_path):\n",
    "    self.base_directory_path = base_directory_path\n",
    "\n",
    "  def rename_files(self, product_name_folder_path, product_name):\n",
    "    \"\"\" 문서번호_제품명_용량_상위폴더명_최종수정일 형식으로 변경 \"\"\"\n",
    "\n",
    "    def extract_volume_info(file_name):\n",
    "        \"\"\" 파일명에서 '100ml', '200g' 같은 정보를 추출 \"\"\"\n",
    "        match = re.search(r'(\\d+(?:ml|g))', file_name)\n",
    "        return match.group(1) if match else \"\"\n",
    "    \n",
    "    def clean_leading_underscores(text):\n",
    "        return re.sub(r'^_+', '', text)\n",
    "    \n",
    "    file_dates = {}  # 중복 방지용 딕셔너리\n",
    "\n",
    "    for root, _, files in os.walk(product_name_folder_path):\n",
    "        folder_name = os.path.basename(root)\n",
    "\n",
    "        for file in sorted(files):\n",
    "            src_path = os.path.join(root, file)\n",
    "            mod_time = datetime.datetime.fromtimestamp(os.path.getmtime(src_path)).strftime('%Y%m%d')\n",
    "\n",
    "            # 기존 파일명에서 DOCx_ 문서번호 추출\n",
    "            doc_match = re.match(r'(DOC\\d+)_', file)\n",
    "            doc_number = doc_match.group(1) if doc_match else \"\"\n",
    "\n",
    "            # 파일명에서 용량 정보 추출\n",
    "            volume_info = extract_volume_info(file)\n",
    "            volume_suffix = f\"_{volume_info}\" if volume_info else \"\"\n",
    "            volume_suffix = clean_leading_underscores\n",
    "\n",
    "            # 새로운 파일명 생성\n",
    "            new_name = f\"{doc_number}_{product_name}_{volume_suffix}_{folder_name}_{mod_time}\"\n",
    "\n",
    "            ext = os.path.splitext(file)[1]\n",
    "            count = file_dates.get(new_name, 0) + 1\n",
    "            file_dates[new_name] = count\n",
    "            new_file_name = f\"{new_name}_{count}{ext}\" if count > 1 else f\"{new_name}{ext}\"\n",
    "\n",
    "            new_path = os.path.join(root, new_file_name)\n",
    "            os.rename(src_path, new_path)\n",
    "  \n",
    "  def rename_all_product_folders(self):\n",
    "    for brand_line in os.listdir(self.base_directory_path):\n",
    "        brand_line_path = os.path.join(self.base_directory_path, brand_line)\n",
    "\n",
    "        # \"0_BrandAsset\" 폴더는 건너뛰기\n",
    "        if brand_line == \"0_BrandAsset\":\n",
    "            print(f\"Skipping brand asset folder: {brand_line}\")\n",
    "            continue\n",
    "\n",
    "        # BrandLine 폴더 내 BrandName 폴더 찾기\n",
    "        if os.path.isdir(brand_line_path):\n",
    "            for product_name in os.listdir(brand_line_path):\n",
    "                product_name_path = os.path.join(brand_line_path, product_name)\n",
    "                print(f\"Renaming: {product_name}\")\n",
    "                self.rename_files(product_name_path, product_name)\n",
    "\n"
   ]
  },
  {
   "cell_type": "code",
   "execution_count": 5,
   "metadata": {},
   "outputs": [
    {
     "name": "stdout",
     "output_type": "stream",
     "text": [
      "Renaming: 2D\n",
      "Renaming: 3D\n",
      "Renaming: Cutout\n",
      "Renaming: Logo\n",
      "Renaming: BarrierEmulsion\n",
      "Renaming: BarrierToner\n",
      "Renaming: Bomb\n"
     ]
    },
    {
     "ename": "OSError",
     "evalue": "[WinError 123] 파일 이름, 디렉터리 이름 또는 볼륨 레이블 구문이 잘못되었습니다: 'D:/01. 빌리프_컨텐츠아카이빙/Belif_작업중_아밤테스트\\\\AgeKnockdown_에이지넉다운\\\\Bomb\\\\BasicAsset\\\\Cutout\\\\Product\\\\Bomb__50ml_Product_20210223.png' -> 'D:/01. 빌리프_컨텐츠아카이빙/Belif_작업중_아밤테스트\\\\AgeKnockdown_에이지넉다운\\\\Bomb\\\\BasicAsset\\\\Cutout\\\\Product\\\\Bomb_<function Rename.rename_files.<locals>.clean_leading_underscores at 0x000002AE372887C0>_Product_20210223.png'",
     "output_type": "error",
     "traceback": [
      "\u001b[31m---------------------------------------------------------------------------\u001b[39m",
      "\u001b[31mOSError\u001b[39m                                   Traceback (most recent call last)",
      "\u001b[36mCell\u001b[39m\u001b[36m \u001b[39m\u001b[32mIn[5]\u001b[39m\u001b[32m, line 4\u001b[39m\n\u001b[32m      1\u001b[39m google_base_directory = \u001b[33m\"\u001b[39m\u001b[33mD:/01. 빌리프_컨텐츠아카이빙/Belif_작업중_아밤테스트\u001b[39m\u001b[33m\"\u001b[39m \n\u001b[32m      3\u001b[39m rename = Rename(google_base_directory)\n\u001b[32m----> \u001b[39m\u001b[32m4\u001b[39m \u001b[43mrename\u001b[49m\u001b[43m.\u001b[49m\u001b[43mrename_all_product_folders\u001b[49m\u001b[43m(\u001b[49m\u001b[43m)\u001b[49m\n",
      "\u001b[36mCell\u001b[39m\u001b[36m \u001b[39m\u001b[32mIn[4]\u001b[39m\u001b[32m, line 65\u001b[39m, in \u001b[36mRename.rename_all_product_folders\u001b[39m\u001b[34m(self)\u001b[39m\n\u001b[32m     63\u001b[39m product_name_path = os.path.join(brand_line_path, product_name)\n\u001b[32m     64\u001b[39m \u001b[38;5;28mprint\u001b[39m(\u001b[33mf\u001b[39m\u001b[33m\"\u001b[39m\u001b[33mRenaming: \u001b[39m\u001b[38;5;132;01m{\u001b[39;00mproduct_name\u001b[38;5;132;01m}\u001b[39;00m\u001b[33m\"\u001b[39m)\n\u001b[32m---> \u001b[39m\u001b[32m65\u001b[39m \u001b[38;5;28;43mself\u001b[39;49m\u001b[43m.\u001b[49m\u001b[43mrename_files\u001b[49m\u001b[43m(\u001b[49m\u001b[43mproduct_name_path\u001b[49m\u001b[43m,\u001b[49m\u001b[43m \u001b[49m\u001b[43mproduct_name\u001b[49m\u001b[43m)\u001b[49m\n",
      "\u001b[36mCell\u001b[39m\u001b[36m \u001b[39m\u001b[32mIn[4]\u001b[39m\u001b[32m, line 49\u001b[39m, in \u001b[36mRename.rename_files\u001b[39m\u001b[34m(self, product_name_folder_path, product_name)\u001b[39m\n\u001b[32m     46\u001b[39m new_file_name = \u001b[33mf\u001b[39m\u001b[33m\"\u001b[39m\u001b[38;5;132;01m{\u001b[39;00mnew_name\u001b[38;5;132;01m}\u001b[39;00m\u001b[33m_\u001b[39m\u001b[38;5;132;01m{\u001b[39;00mcount\u001b[38;5;132;01m}\u001b[39;00m\u001b[38;5;132;01m{\u001b[39;00mext\u001b[38;5;132;01m}\u001b[39;00m\u001b[33m\"\u001b[39m \u001b[38;5;28;01mif\u001b[39;00m count > \u001b[32m1\u001b[39m \u001b[38;5;28;01melse\u001b[39;00m \u001b[33mf\u001b[39m\u001b[33m\"\u001b[39m\u001b[38;5;132;01m{\u001b[39;00mnew_name\u001b[38;5;132;01m}\u001b[39;00m\u001b[38;5;132;01m{\u001b[39;00mext\u001b[38;5;132;01m}\u001b[39;00m\u001b[33m\"\u001b[39m\n\u001b[32m     48\u001b[39m new_path = os.path.join(root, new_file_name)\n\u001b[32m---> \u001b[39m\u001b[32m49\u001b[39m os.rename(src_path, new_path)\n",
      "\u001b[31mOSError\u001b[39m: [WinError 123] 파일 이름, 디렉터리 이름 또는 볼륨 레이블 구문이 잘못되었습니다: 'D:/01. 빌리프_컨텐츠아카이빙/Belif_작업중_아밤테스트\\\\AgeKnockdown_에이지넉다운\\\\Bomb\\\\BasicAsset\\\\Cutout\\\\Product\\\\Bomb__50ml_Product_20210223.png' -> 'D:/01. 빌리프_컨텐츠아카이빙/Belif_작업중_아밤테스트\\\\AgeKnockdown_에이지넉다운\\\\Bomb\\\\BasicAsset\\\\Cutout\\\\Product\\\\Bomb_<function Rename.rename_files.<locals>.clean_leading_underscores at 0x000002AE372887C0>_Product_20210223.png'"
     ]
    }
   ],
   "source": [
    "google_base_directory = \"D:/01. 빌리프_컨텐츠아카이빙/Belif_작업중_아밤테스트\" \n",
    "\n",
    "rename = Rename(google_base_directory)\n",
    "rename.rename_all_product_folders()"
   ]
  }
 ],
 "metadata": {
  "kernelspec": {
   "display_name": "Python 3",
   "language": "python",
   "name": "python3"
  },
  "language_info": {
   "codemirror_mode": {
    "name": "ipython",
    "version": 3
   },
   "file_extension": ".py",
   "mimetype": "text/x-python",
   "name": "python",
   "nbconvert_exporter": "python",
   "pygments_lexer": "ipython3",
   "version": "3.11.9"
  }
 },
 "nbformat": 4,
 "nbformat_minor": 2
}
